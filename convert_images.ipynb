{
 "cells": [
  {
   "cell_type": "code",
   "execution_count": 1,
   "id": "f287954b-a9e4-498e-8194-4c79ea4e1509",
   "metadata": {
    "tags": []
   },
   "outputs": [],
   "source": [
    "import PIL.Image as Image\n",
    "import numpy as np\n",
    "import os\n",
    "from tqdm import tqdm\n",
    "import matplotlib.pyplot as plt\n",
    "import shutil"
   ]
  },
  {
   "cell_type": "code",
   "execution_count": null,
   "id": "ae5765f5-7c2d-409e-b7e0-5db549555175",
   "metadata": {
    "tags": []
   },
   "outputs": [
    {
     "name": "stderr",
     "output_type": "stream",
     "text": [
      "100%|███████████████████████████████████| 13100/13100 [00:07<00:00, 1696.44it/s]\n"
     ]
    }
   ],
   "source": [
    "training_folder = './datasets/processed_ATLAS_2_0_layers/80_100/'\n",
    "training_folder_processed = './datasets/ATLAS_2_0/train/class_80_100/'\n",
    "os.makedirs(training_folder_processed, exist_ok=True)\n",
    "training_images = os.listdir(training_folder)\n",
    "for image in tqdm(training_images):\n",
    "    if image.endswith('.tiff'):\n",
    "        img = Image.open(os.path.join(training_folder, image))\n",
    "        img = np.array(img, dtype=np.int8)\n",
    "        img = np.stack([img, img, img], axis=-1)\n",
    "        img = Image.fromarray(img, 'RGB')\n",
    "        img.save(os.path.join(training_folder_processed, image))"
   ]
  },
  {
   "cell_type": "code",
   "execution_count": null,
   "id": "1ca81de5",
   "metadata": {},
   "outputs": [
    {
     "name": "stderr",
     "output_type": "stream",
     "text": [
      "100%|██████████| 50011/50011 [00:09<00:00, 5276.82it/s]\n"
     ]
    }
   ],
   "source": [
    "test_folder = './datasets/synthetic_ATLAS_2_0_layers/samples_revised_v2/'\n",
    "test_folder_processed = './datasets/ATLAS_2_0/test/class_80_100/'\n",
    "os.makedirs(test_folder_processed, exist_ok=True)\n",
    "test_images = os.listdir(test_folder)\n",
    "for image in tqdm(test_images):\n",
    "    if image.endswith('.tiff'):\n",
    "        img = Image.open(os.path.join(test_folder, image))\n",
    "        img = np.array(img, dtype=np.int8)\n",
    "        img = np.stack([img, img, img], axis=-1)\n",
    "        img = Image.fromarray(img, 'RGB')\n",
    "        img.save(os.path.join(test_folder_processed, image))"
   ]
  },
  {
   "cell_type": "code",
   "execution_count": 7,
   "id": "0fc649a1-708b-4c1d-9281-09bc9193ffa6",
   "metadata": {},
   "outputs": [
    {
     "name": "stderr",
     "output_type": "stream",
     "text": [
      "100%|█████████████████████████████████████| 2567/2567 [00:02<00:00, 1226.27it/s]\n"
     ]
    }
   ],
   "source": [
    "projected_folder = '/home/marcos/MRI/augmented_filtered_processed/projections/'\n",
    "projected_images = os.listdir(projected_folder)\n",
    "projected_folder_processed = '/home/marcos/MRI/augmented_filtered_processed/projections/80_100/images/'\n",
    "projected_folder_processed_masks = '/home/marcos/MRI/augmented_filtered_processed/projections/80_100/masks/'\n",
    "origional_mask_folder = '/home/marcos/MRI/augmented_filtered_processed/real/80_100/masks/'\n",
    "for image in tqdm(projected_images):\n",
    "    if image.endswith('.tiff'):\n",
    "        img = Image.open(os.path.join(projected_folder, image))\n",
    "        img = np.array(img, dtype=np.int8)\n",
    "        img = np.stack([img, img, img], axis=-1)\n",
    "        img = Image.fromarray(img, 'RGB')\n",
    "        img.save(os.path.join(projected_folder_processed, image.replace('proj_','')))\n",
    "        shutil.copy2(os.path.join(origional_mask_folder, image.replace('proj_','')), projected_folder_processed_masks)"
   ]
  },
  {
   "cell_type": "code",
   "execution_count": null,
   "id": "1930cff7-b3f9-4815-a5c4-2e68a8d5ad62",
   "metadata": {},
   "outputs": [],
   "source": []
  }
 ],
 "metadata": {
  "kernelspec": {
   "display_name": "base",
   "language": "python",
   "name": "python3"
  },
  "language_info": {
   "codemirror_mode": {
    "name": "ipython",
    "version": 3
   },
   "file_extension": ".py",
   "mimetype": "text/x-python",
   "name": "python",
   "nbconvert_exporter": "python",
   "pygments_lexer": "ipython3",
   "version": "3.11.5"
  }
 },
 "nbformat": 4,
 "nbformat_minor": 5
}
